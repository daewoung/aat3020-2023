{
  "cells": [
    {
      "cell_type": "markdown",
      "metadata": {
        "colab_type": "text",
        "id": "view-in-github"
      },
      "source": [
        "<a href=\"https://colab.research.google.com/github/jdasam/aat3020-2023/blob/main/notebooks/3_Language_modeling.ipynb\" target=\"_parent\"><img src=\"https://colab.research.google.com/assets/colab-badge.svg\" alt=\"Open In Colab\"/></a>"
      ]
    },
    {
      "cell_type": "code",
      "execution_count": 2,
      "metadata": {
        "id": "8vQzOle74-cJ"
      },
      "outputs": [
        {
          "name": "stderr",
          "output_type": "stream",
          "text": [
            "/home/teo/.local/share/virtualenvs/aat3020-2023-E1AG9i7b/lib/python3.8/site-packages/tqdm/auto.py:21: TqdmWarning: IProgress not found. Please update jupyter and ipywidgets. See https://ipywidgets.readthedocs.io/en/stable/user_install.html\n",
            "  from .autonotebook import tqdm as notebook_tqdm\n"
          ]
        }
      ],
      "source": [
        "import torch\n",
        "import torch.nn as nn\n",
        "from torchtext.data.utils import get_tokenizer\n",
        "import matplotlib.pyplot as plt\n",
        "from tqdm.auto import tqdm\n"
      ]
    },
    {
      "cell_type": "code",
      "execution_count": 23,
      "metadata": {
        "colab": {
          "base_uri": "https://localhost:8080/"
        },
        "id": "Y1EwAtYF4-cJ",
        "outputId": "d986cf84-7431-4ed3-ee88-c2088699b4d2"
      },
      "outputs": [
        {
          "name": "stdout",
          "output_type": "stream",
          "text": [
            "--2023-04-18 14:43:11--  https://raw.githubusercontent.com/karpathy/makemore/master/names.txt\n",
            "Resolving raw.githubusercontent.com (raw.githubusercontent.com)... 185.199.109.133, 185.199.110.133, 185.199.108.133, ...\n",
            "Connecting to raw.githubusercontent.com (raw.githubusercontent.com)|185.199.109.133|:443... connected.\n",
            "HTTP request sent, awaiting response... 200 OK\n",
            "Length: 228145 (223K) [text/plain]\n",
            "Saving to: ‘names.txt’\n",
            "\n",
            "names.txt           100%[===================>] 222.80K  --.-KB/s    in 0.03s   \n",
            "\n",
            "2023-04-18 14:43:11 (8.15 MB/s) - ‘names.txt’ saved [228145/228145]\n",
            "\n"
          ]
        }
      ],
      "source": [
        "!wget \"https://raw.githubusercontent.com/karpathy/makemore/master/names.txt\""
      ]
    },
    {
      "cell_type": "code",
      "execution_count": 4,
      "metadata": {
        "id": "xbdOy7ia4-cK"
      },
      "outputs": [],
      "source": [
        "def read_txt(txt_path):\n",
        "  with open(txt_path, 'r') as f:\n",
        "    txt_string = f.readlines()\n",
        "  return txt_string\n",
        "\n",
        "txt_string = read_txt('names.txt')"
      ]
    },
    {
      "cell_type": "code",
      "execution_count": 5,
      "metadata": {
        "colab": {
          "base_uri": "https://localhost:8080/"
        },
        "id": "BgVjcZCW6fMl",
        "outputId": "dbb88d0c-87f6-4359-c165-e41979b70711"
      },
      "outputs": [
        {
          "data": {
            "text/plain": [
              "32033"
            ]
          },
          "execution_count": 5,
          "metadata": {},
          "output_type": "execute_result"
        }
      ],
      "source": [
        "names = [x[:-1] for x in txt_string]\n",
        "len(names)"
      ]
    },
    {
      "cell_type": "code",
      "execution_count": 6,
      "metadata": {
        "id": "YBxK9YH77KJ9"
      },
      "outputs": [],
      "source": [
        "# 2-gram \n",
        "entire_ngram = []\n",
        "n = 5\n",
        "\n",
        "for name in names:\n",
        "  len_name = len(name)\n",
        "  for i in range(len(name)-(n-1)):\n",
        "    n_gram = name[i:i+n]\n",
        "    entire_ngram.append(n_gram)"
      ]
    },
    {
      "cell_type": "code",
      "execution_count": 7,
      "metadata": {
        "id": "KRg3bkUU8Gx4"
      },
      "outputs": [],
      "source": [
        "from collections import Counter\n",
        "\n",
        "n_gram_counter = Counter(entire_ngram)"
      ]
    },
    {
      "cell_type": "code",
      "execution_count": 8,
      "metadata": {
        "colab": {
          "base_uri": "https://localhost:8080/"
        },
        "id": "xJsNbRqb8aPC",
        "outputId": "99a5f4ba-e4a9-479b-94db-45d685a38d79"
      },
      "outputs": [
        {
          "data": {
            "text/plain": [
              "147692"
            ]
          },
          "execution_count": 8,
          "metadata": {},
          "output_type": "execute_result"
        }
      ],
      "source": [
        "# how many combination exists?\n",
        "len(n_gram_counter)"
      ]
    },
    {
      "cell_type": "code",
      "execution_count": 9,
      "metadata": {
        "colab": {
          "base_uri": "https://localhost:8080/"
        },
        "id": "8_2-P8FY8Rst",
        "outputId": "b714db6a-2624-4c0c-df15-f1eaa7120690"
      },
      "outputs": [
        {
          "data": {
            "text/plain": [
              "[('     ', 644349),\n",
              " ('    <', 128843),\n",
              " ('-line', 128145),\n",
              " ('blob-', 128144),\n",
              " ('line-', 96132),\n",
              " ('er js', 96113),\n",
              " ('r js-', 96113),\n",
              " ('-code', 96106),\n",
              " ('   <t', 96106),\n",
              " ('umber', 96102)]"
            ]
          },
          "execution_count": 9,
          "metadata": {},
          "output_type": "execute_result"
        }
      ],
      "source": [
        "n_gram_counter.most_common(10)"
      ]
    },
    {
      "cell_type": "code",
      "execution_count": 10,
      "metadata": {
        "id": "OWhrGi4A8sTf"
      },
      "outputs": [
        {
          "data": {
            "text/plain": [
              "['     ',\n",
              " '    \"',\n",
              " '    &',\n",
              " '    2',\n",
              " '    3',\n",
              " '    <',\n",
              " '    >',\n",
              " '    A',\n",
              " '    B',\n",
              " '    C',\n",
              " '    D',\n",
              " '    E',\n",
              " '    F',\n",
              " '    G',\n",
              " '    H',\n",
              " '    I',\n",
              " '    J',\n",
              " '    M',\n",
              " '    O',\n",
              " '    P',\n",
              " '    R',\n",
              " '    S',\n",
              " '    T',\n",
              " '    U',\n",
              " '    V',\n",
              " '    W',\n",
              " '    Y',\n",
              " '    a',\n",
              " '    c',\n",
              " '    d',\n",
              " '    f',\n",
              " '    h',\n",
              " '    i',\n",
              " '    k',\n",
              " '    n',\n",
              " '    p',\n",
              " '    q',\n",
              " '    r',\n",
              " '    s',\n",
              " '    t',\n",
              " '   &c',\n",
              " '   22',\n",
              " '   32',\n",
              " '   <!',\n",
              " '   </',\n",
              " '   <a',\n",
              " '   <b',\n",
              " '   <c',\n",
              " '   <d',\n",
              " '   <f',\n",
              " '   <h',\n",
              " '   <i',\n",
              " '   <l',\n",
              " '   <m',\n",
              " '   <n',\n",
              " '   <p',\n",
              " '   <r',\n",
              " '   <s',\n",
              " '   <t',\n",
              " '   <u',\n",
              " '   A ',\n",
              " '   Ac',\n",
              " '   Al',\n",
              " '   Au',\n",
              " '   Bl',\n",
              " '   CI',\n",
              " '   Ca',\n",
              " '   Co',\n",
              " '   Cr',\n",
              " '   Cu',\n",
              " '   De',\n",
              " '   Do',\n",
              " '   Ed',\n",
              " '   En',\n",
              " '   Fi',\n",
              " '   Fu',\n",
              " '   Gi',\n",
              " '   Go',\n",
              " '   Ho',\n",
              " '   In',\n",
              " '   Is',\n",
              " '   Ju',\n",
              " '   Ma',\n",
              " '   Op',\n",
              " '   Pl',\n",
              " '   Pr',\n",
              " '   Pu',\n",
              " '   Re',\n",
              " '   Se',\n",
              " '   Sh',\n",
              " '   Si',\n",
              " '   So',\n",
              " '   St',\n",
              " '   Te',\n",
              " '   Th',\n",
              " '   To',\n",
              " '   Tr',\n",
              " '   Us',\n",
              " '   Vi',\n",
              " '   Wr',\n",
              " '   Yo',\n",
              " '   ar',\n",
              " '   au',\n",
              " '   ca',\n",
              " '   cl',\n",
              " '   co',\n",
              " '   cu',\n",
              " '   da',\n",
              " '   de',\n",
              " '   fo',\n",
              " '   hr',\n",
              " '   id',\n",
              " '   in',\n",
              " '   ka',\n",
              " '   na',\n",
              " '   pl',\n",
              " '   pr',\n",
              " '   qu',\n",
              " '   ro',\n",
              " '   sp',\n",
              " '   sr',\n",
              " '   st',\n",
              " '   ta',\n",
              " '   ti',\n",
              " '   ty',\n",
              " '   {{',\n",
              " '  &co',\n",
              " '  223',\n",
              " '  320',\n",
              " '  <!-',\n",
              " '  </a',\n",
              " '  </b',\n",
              " '  </c',\n",
              " '  </d',\n",
              " '  </f',\n",
              " '  </h',\n",
              " '  </i',\n",
              " '  </l',\n",
              " '  </m',\n",
              " '  </n',\n",
              " '  </r',\n",
              " '  </s',\n",
              " '  </t',\n",
              " '  </u',\n",
              " '  <a ',\n",
              " '  <bo',\n",
              " '  <bu',\n",
              " '  <ci',\n",
              " '  <cl',\n",
              " '  <de',\n",
              " '  <di',\n",
              " '  <fo',\n",
              " '  <h1',\n",
              " '  <h2',\n",
              " '  <h3',\n",
              " '  <he',\n",
              " '  <im',\n",
              " '  <in',\n",
              " '  <la',\n",
              " '  <li',\n",
              " '  <ma',\n",
              " '  <me',\n",
              " '  <mo',\n",
              " '  <na',\n",
              " '  <pa',\n",
              " '  <re',\n",
              " '  <sc',\n",
              " '  <sp',\n",
              " '  <st',\n",
              " '  <su',\n",
              " '  <sv',\n",
              " '  <ta',\n",
              " '  <td',\n",
              " '  <te',\n",
              " '  <ti',\n",
              " '  <tr',\n",
              " '  <ul',\n",
              " '  A t',\n",
              " '  Act',\n",
              " '  All',\n",
              " '  Aut',\n",
              " '  Blo',\n",
              " '  CI/',\n",
              " '  Can',\n",
              " '  Cod',\n",
              " '  Col',\n",
              " '  Cop',\n",
              " '  Cre',\n",
              " '  Cus',\n",
              " '  Dev',\n",
              " '  Doc',\n",
              " '  Edu',\n",
              " '  Ent',\n",
              " '  Fin',\n",
              " '  Fun',\n",
              " '  Git',\n",
              " '  Go ',\n",
              " '  Hos',\n",
              " '  In ',\n",
              " '  Ins',\n",
              " '  Iss',\n",
              " '  Jum',\n",
              " '  Man',\n",
              " '  Ope',\n",
              " '  Pla',\n",
              " '  Pro',\n",
              " '  Pul',\n",
              " '  Res',\n",
              " '  Sec',\n",
              " '  Sho',\n",
              " '  Sig',\n",
              " '  Sol',\n",
              " '  Sta',\n",
              " '  Tea',\n",
              " '  Thi',\n",
              " '  Top',\n",
              " '  Tre',\n",
              " '  Use',\n",
              " '  Vie',\n",
              " '  Wri',\n",
              " '  You',\n",
              " '  ari',\n",
              " '  aut',\n",
              " '  cac',\n",
              " '  cla',\n",
              " '  con',\n",
              " '  cur',\n",
              " '  dat',\n",
              " '  def',\n",
              " '  foc',\n",
              " '  gis',\n",
              " '  hre',\n",
              " '  id=',\n",
              " '  inp',\n",
              " '  kar',\n",
              " '  nam',\n",
              " '  pla',\n",
              " '  pre',\n",
              " '  px-',\n",
              " '  que',\n",
              " '  rol',\n",
              " '  spe',\n",
              " '  src',\n",
              " '  sty',\n",
              " '  tab',\n",
              " '  tit',\n",
              " '  typ',\n",
              " '  {{ ',\n",
              " ' \" da',\n",
              " ' &amp',\n",
              " ' &cop',\n",
              " ' &quo',\n",
              " ' \\'\"` ',\n",
              " ' (320',\n",
              " ' (log',\n",
              " ' - ma',\n",
              " ' --><',\n",
              " ' .002',\n",
              " ' .018',\n",
              " ' .05.',\n",
              " ' .09.',\n",
              " ' .108',\n",
              " ' .125',\n",
              " ' .138',\n",
              " ' .14 ',\n",
              " ' .154',\n",
              " ' .21-',\n",
              " ' .215',\n",
              " ' .216',\n",
              " ' .22-',\n",
              " ' .22.',\n",
              " ' .249',\n",
              " ' .25-',\n",
              " ' .25.',\n",
              " ' .25Z',\n",
              " ' .25a',\n",
              " ' .27-',\n",
              " ' .326',\n",
              " ' .346',\n",
              " ' .354',\n",
              " ' .368',\n",
              " ' .379',\n",
              " ' .414',\n",
              " ' .416',\n",
              " ' .427',\n",
              " ' .428',\n",
              " ' .5-.',\n",
              " ' .5.5',\n",
              " ' .529',\n",
              " ' .53-',\n",
              " ' .53.',\n",
              " ' .605',\n",
              " ' .67.',\n",
              " ' .673',\n",
              " ' .698',\n",
              " ' .734',\n",
              " ' .75-',\n",
              " ' .75.',\n",
              " ' .784',\n",
              " ' .854',\n",
              " ' /></',\n",
              " ' /><l',\n",
              " ' /><m',\n",
              " ' /kar',\n",
              " ' 0 .1',\n",
              " ' 0 .2',\n",
              " ' 0 .3',\n",
              " ' 0 .4',\n",
              " ' 0 .5',\n",
              " ' 0 .6',\n",
              " ' 0 .7',\n",
              " ' 0 0 ',\n",
              " ' 0 0-',\n",
              " ' 0 00',\n",
              " ' 0 1 ',\n",
              " ' 0 1-',\n",
              " ' 0 1.',\n",
              " ' 0 11',\n",
              " ' 0 12',\n",
              " ' 0 13',\n",
              " ' 0 14',\n",
              " ' 0 16',\n",
              " ' 0 2.',\n",
              " ' 0 24',\n",
              " ' 0 3 ',\n",
              " ' 0 3.',\n",
              " ' 0 3Z',\n",
              " ' 0 4.',\n",
              " ' 0 5.',\n",
              " ' 0 6.',\n",
              " ' 0 8 ',\n",
              " ' 0 8c',\n",
              " ' 0 9.',\n",
              " ' 0%;\"',\n",
              " ' 0-.0',\n",
              " ' 0-.1',\n",
              " ' 0-.2',\n",
              " ' 0-.3',\n",
              " ' 0-.4',\n",
              " ' 0-.5',\n",
              " ' 0-.6',\n",
              " ' 0-.7',\n",
              " ' 0-.8',\n",
              " ' 0-1 ',\n",
              " ' 0-1-',\n",
              " ' 0-1.',\n",
              " ' 0-13',\n",
              " ' 0-2.',\n",
              " ' 0-3 ',\n",
              " ' 0-3-',\n",
              " ' 0-4.',\n",
              " ' 0-7.',\n",
              " ' 0-8.',\n",
              " ' 00-7',\n",
              " ' 0;\">',\n",
              " ' 0A4.',\n",
              " ' 0C17',\n",
              " ' 0C5.',\n",
              " ' 0L1.',\n",
              " ' 0L10',\n",
              " ' 0L2.',\n",
              " ' 0L3.',\n",
              " ' 0L5.',\n",
              " ' 0L7 ',\n",
              " ' 0L8 ',\n",
              " ' 0V5.',\n",
              " ' 0V5a',\n",
              " ' 0V8.',\n",
              " ' 0Z\">',\n",
              " ' 0ZM1',\n",
              " ' 0ZM5',\n",
              " ' 0ZM8',\n",
              " ' 0ZM9',\n",
              " ' 0Zm-',\n",
              " ' 0Zm.',\n",
              " ' 0Zm1',\n",
              " ' 0Zm4',\n",
              " ' 0Zm6',\n",
              " ' 0Zm8',\n",
              " ' 0a.7',\n",
              " ' 0a1.',\n",
              " ' 0a8 ',\n",
              " ' 0c-2',\n",
              " ' 0c2.',\n",
              " ' 0c4.',\n",
              " ' 0h12',\n",
              " ' 0h2.',\n",
              " ' 0h7.',\n",
              " ' 0h8.',\n",
              " ' 0l-5',\n",
              " ' 0l-8',\n",
              " ' 0l1.',\n",
              " ' 0l2.',\n",
              " ' 0l3.',\n",
              " ' 0l5-',\n",
              " ' 0l5.',\n",
              " ' 0l6.',\n",
              " ' 0v-2',\n",
              " ' 0v-3',\n",
              " ' 0v-7',\n",
              " ' 0v.8',\n",
              " ' 0v1.',\n",
              " ' 0v2.',\n",
              " ' 0v3.',\n",
              " ' 0v5.',\n",
              " ' 1 .0',\n",
              " ' 1 .2',\n",
              " ' 1 .3',\n",
              " ' 1 .4',\n",
              " ' 1 .5',\n",
              " ' 1 .6',\n",
              " ' 1 .7',\n",
              " ' 1 0 ',\n",
              " ' 1 0-',\n",
              " ' 1 1 ',\n",
              " ' 1 1-',\n",
              " ' 1 1.',\n",
              " ' 1 10',\n",
              " ' 1 11',\n",
              " ' 1 12',\n",
              " ' 1 13',\n",
              " ' 1 14',\n",
              " ' 1 15',\n",
              " ' 1 18',\n",
              " ' 1 2 ',\n",
              " ' 1 2-',\n",
              " ' 1 2.',\n",
              " ' 1 22',\n",
              " ' 1 24',\n",
              " ' 1 3 ',\n",
              " ' 1 3.',\n",
              " ' 1 4.',\n",
              " ' 1 5 ',\n",
              " ' 1 5.',\n",
              " ' 1 6 ',\n",
              " ' 1 7 ',\n",
              " ' 1 7.',\n",
              " ' 1 7V',\n",
              " ' 1 8 ',\n",
              " ' 1 8.',\n",
              " ' 1 9 ',\n",
              " ' 1 9.',\n",
              " ' 1-.0',\n",
              " ' 1-.1',\n",
              " ' 1-.2',\n",
              " ' 1-.3',\n",
              " ' 1-.4',\n",
              " ' 1-.5',\n",
              " ' 1-.7',\n",
              " ' 1-.8',\n",
              " ' 1-.9',\n",
              " ' 1-1.',\n",
              " ' 1-1v',\n",
              " ' 1-2 ',\n",
              " ' 1-2-',\n",
              " ' 1-2.',\n",
              " ' 1-5.',\n",
              " ' 1-7.',\n",
              " ' 1.02',\n",
              " ' 1.03',\n",
              " ' 1.04',\n",
              " ' 1.05',\n",
              " ' 1.06',\n",
              " ' 1.07',\n",
              " ' 1.08',\n",
              " ' 1.1-',\n",
              " ' 1.13',\n",
              " ' 1.18',\n",
              " ' 1.19',\n",
              " ' 1.1l',\n",
              " ' 1.21',\n",
              " ' 1.25',\n",
              " ' 1.26',\n",
              " ' 1.27',\n",
              " ' 1.28',\n",
              " ' 1.29',\n",
              " ' 1.3 ',\n",
              " ' 1.3-',\n",
              " ' 1.3.',\n",
              " ' 1.31',\n",
              " ' 1.35',\n",
              " ' 1.39',\n",
              " ' 1.42',\n",
              " ' 1.44',\n",
              " ' 1.45',\n",
              " ' 1.47',\n",
              " ' 1.49',\n",
              " ' 1.5 ',\n",
              " ' 1.5.',\n",
              " ' 1.51',\n",
              " ' 1.52',\n",
              " ' 1.56',\n",
              " ' 1.57',\n",
              " ' 1.5H',\n",
              " ' 1.5Z',\n",
              " ' 1.5h',\n",
              " ' 1.5v',\n",
              " ' 1.68',\n",
              " ' 1.69',\n",
              " ' 1.7-',\n",
              " ' 1.7.',\n",
              " ' 1.70',\n",
              " ' 1.74',\n",
              " ' 1.75',\n",
              " ' 1.78',\n",
              " ' 1.86',\n",
              " ' 1.91',\n",
              " ' 1.92',\n",
              " ' 1.95',\n",
              " ' 1.96',\n",
              " ' 1.98',\n",
              " ' 10 .',\n",
              " ' 10 0',\n",
              " ' 10 8',\n",
              " ' 10.1',\n",
              " ' 10.5',\n",
              " ' 10.6',\n",
              " ' 10.7',\n",
              " ' 10.9',\n",
              " ' 10V4',\n",
              " ' 11 .',\n",
              " ' 11 1',\n",
              " ' 11 4',\n",
              " ' 11 5',\n",
              " ' 11-1',\n",
              " ' 11.3',\n",
              " ' 11.4',\n",
              " ' 11.5',\n",
              " ' 11.7',\n",
              " ' 11S1',\n",
              " ' 11a1',\n",
              " ' 11h-',\n",
              " ' 11s-',\n",
              " ' 12 1',\n",
              " ' 12 2',\n",
              " ' 12 5',\n",
              " ' 12.2',\n",
              " ' 12.3',\n",
              " ' 12.4',\n",
              " ' 12.8',\n",
              " ' 12Zm',\n",
              " ' 12a.',\n",
              " ' 12a9',\n",
              " ' 12c0',\n",
              " ' 13 0',\n",
              " ' 13 7',\n",
              " ' 13.1',\n",
              " ' 13.4',\n",
              " ' 13.5',\n",
              " ' 13.8',\n",
              " ' 13H2',\n",
              " ' 13H5',\n",
              " ' 13c-',\n",
              " ' 14.0',\n",
              " ' 14.2',\n",
              " ' 14.5',\n",
              " ' 14H8',\n",
              " ' 14Z\"',\n",
              " ' 14a.',\n",
              " ' 14h-',\n",
              " ' 15 3',\n",
              " ' 15.1',\n",
              " ' 15.2',\n",
              " ' 15.4',\n",
              " ' 15.5',\n",
              " ' 15.7',\n",
              " ' 15H1',\n",
              " ' 15h-',\n",
              " ' 16 .',\n",
              " ' 16 1',\n",
              " ' 16\" ',\n",
              " ' 16.1',\n",
              " ' 16.2',\n",
              " ' 16.3',\n",
              " ' 16.7',\n",
              " ' 16A8',\n",
              " ' 16H1',\n",
              " ' 16ZM',\n",
              " ' 16a2',\n",
              " ' 16h-',\n",
              " ' 17 8',\n",
              " ' 17.2',\n",
              " ' 17.5',\n",
              " ' 17.7',\n",
              " ' 175p',\n",
              " ' 17H1',\n",
              " ' 18.0',\n",
              " ' 18.2',\n",
              " ' 18.7',\n",
              " ' 19.0',\n",
              " ' 19.1',\n",
              " ' 19.4',\n",
              " ' 19.9',\n",
              " ' 1Z\">',\n",
              " ' 1ZM1',\n",
              " ' 1ZM2',\n",
              " ' 1c6.',\n",
              " ' 1h12',\n",
              " ' 1rem',\n",
              " ' 1v1.',\n",
              " ' 1v6.',\n",
              " ' 2 0 ',\n",
              " ' 2 0Z',\n",
              " ' 2 10',\n",
              " ' 2 11',\n",
              " ' 2 12',\n",
              " ' 2 16',\n",
              " ' 2 2V',\n",
              " ' 2 2v',\n",
              " ' 2 3.',\n",
              " ' 2 5.',\n",
              " ' 2-2H',\n",
              " ' 2-2h',\n",
              " ' 2.03',\n",
              " ' 2.07',\n",
              " ' 2.12',\n",
              " ' 2.15',\n",
              " ' 2.18',\n",
              " ' 2.22',\n",
              " ' 2.24',\n",
              " ' 2.25',\n",
              " ' 2.29',\n",
              " ' 2.32',\n",
              " ' 2.34',\n",
              " ' 2.42',\n",
              " ' 2.44',\n",
              " ' 2.47',\n",
              " ' 2.48',\n",
              " ' 2.49',\n",
              " ' 2.5 ',\n",
              " ' 2.53',\n",
              " ' 2.54',\n",
              " ' 2.55',\n",
              " ' 2.56',\n",
              " ' 2.57',\n",
              " ' 2.5A',\n",
              " ' 2.5a',\n",
              " ' 2.62',\n",
              " ' 2.65',\n",
              " ' 2.66',\n",
              " ' 2.67',\n",
              " ' 2.69',\n",
              " ' 2.7 ',\n",
              " ' 2.72',\n",
              " ' 2.75',\n",
              " ' 2.76',\n",
              " ' 2.78',\n",
              " ' 2.7a',\n",
              " ' 2.81',\n",
              " ' 2.90',\n",
              " ' 2.93',\n",
              " ' 2.97',\n",
              " ' 20.5',\n",
              " ' 20.7',\n",
              " ' 2022',\n",
              " ' 2023',\n",
              " ' 20H1',\n",
              " ' 20H2',\n",
              " ' 21.0',\n",
              " ' 21.3',\n",
              " ' 22 1',\n",
              " ' 22 4',\n",
              " ' 22.2',\n",
              " ' 223 ',\n",
              " ' 22c-',\n",
              " ' 24 1',\n",
              " ' 24 2',\n",
              " ' 24\" ',\n",
              " ' 2H7v',\n",
              " ' 2V21',\n",
              " ' 2Zm-',\n",
              " ' 2Zm6',\n",
              " ' 2a2 ',\n",
              " ' 2c2.',\n",
              " ' 2h-6',\n",
              " ' 2h13',\n",
              " ' 2h3.',\n",
              " ' 2px ',\n",
              " ' 2v6.',\n",
              " ' 3 1.',\n",
              " ' 3 15',\n",
              " ' 3 2.',\n",
              " ' 3 3v',\n",
              " ' 3 7.',\n",
              " ' 3-3 ',\n",
              " ' 3-3z',\n",
              " ' 3.00',\n",
              " ' 3.01',\n",
              " ' 3.02',\n",
              " ' 3.03',\n",
              " ' 3.04',\n",
              " ' 3.06',\n",
              " ' 3.08',\n",
              " ' 3.10',\n",
              " ' 3.18',\n",
              " ' 3.22',\n",
              " ' 3.25',\n",
              " ' 3.28',\n",
              " ' 3.29',\n",
              " ' 3.36',\n",
              " ' 3.39',\n",
              " ' 3.42',\n",
              " ' 3.48',\n",
              " ' 3.49',\n",
              " ' 3.5 ',\n",
              " ' 3.50',\n",
              " ' 3.57',\n",
              " ' 3.58',\n",
              " ' 3.5Z',\n",
              " ' 3.5a',\n",
              " ' 3.64',\n",
              " ' 3.65',\n",
              " ' 3.72',\n",
              " ' 3.75',\n",
              " ' 3.81',\n",
              " ' 3.85',\n",
              " ' 3.86',\n",
              " ' 3.89',\n",
              " ' 3.95',\n",
              " ' 3.99',\n",
              " ' 3203',\n",
              " ' 3Z\">',\n",
              " ' 3ZM1',\n",
              " ' 3Zm1',\n",
              " ' 3a.7',\n",
              " ' 3a2 ',\n",
              " ' 3h-1',\n",
              " ' 3v13',\n",
              " ' 4 0 ',\n",
              " ' 4 4 ',\n",
              " ' 4.03',\n",
              " ' 4.08',\n",
              " ' 4.19',\n",
              " ' 4.21',\n",
              " ' 4.22',\n",
              " ' 4.24',\n",
              " ' 4.25',\n",
              " ' 4.26',\n",
              " ' 4.28',\n",
              " ' 4.32',\n",
              " ' 4.36',\n",
              " ' 4.40',\n",
              " ' 4.47',\n",
              " ' 4.49',\n",
              " ' 4.5 ',\n",
              " ' 4.68',\n",
              " ' 4.75',\n",
              " ' 4.76',\n",
              " ' 4.78',\n",
              " ' 4.81',\n",
              " ' 4.82',\n",
              " ' 4.92',\n",
              " ' 4.97',\n",
              " ' 4Z\">',\n",
              " ' 4Zm-',\n",
              " ' 4a.2',\n",
              " ' 4a.7',\n",
              " ' 4a3.',\n",
              " ' 5 0 ',\n",
              " ' 5 1.',\n",
              " ' 5 21',\n",
              " ' 5 9.',\n",
              " ' 5.01',\n",
              " ' 5.22',\n",
              " ' 5.25',\n",
              " ' 5.37',\n",
              " ' 5.46',\n",
              " ' 5.5 ',\n",
              " ' 5.5.',\n",
              " ' 5.50',\n",
              " ' 5.5Z',\n",
              " ' 5.5a',\n",
              " ' 5.68',\n",
              " ' 5.74',\n",
              " ' 5.75',\n",
              " ' 5.78',\n",
              " ' 5.89',\n",
              " ' 5.92',\n",
              " ' 5V1.',\n",
              " ' 5a5 ',\n",
              " ' 5h1.',\n",
              " ' 5v2.',\n",
              " ' 5v5.',\n",
              " ' 6 0 ',\n",
              " ' 6 10',\n",
              " ' 6 6 ',\n",
              " ' 6 7h',\n",
              " ' 6.19',\n",
              " ' 6.25',\n",
              " ' 6.28',\n",
              " ' 6.34',\n",
              " ' 6.37',\n",
              " ' 6.5 ',\n",
              " ' 6.5v',\n",
              " ' 6.67',\n",
              " ' 6.6A',\n",
              " ' 6.6a',\n",
              " ' 6.74',\n",
              " ' 6.75',\n",
              " ' 6.91',\n",
              " ' 6.94',\n",
              " ' 6H.2',\n",
              " ' 6L8 ',\n",
              " ' 6h1z',\n",
              " ' 7 8.',\n",
              " ' 7.00',\n",
              " ' 7.06',\n",
              " ' 7.25',\n",
              " ' 7.42',\n",
              " ' 7.59',\n",
              " ' 7.62',\n",
              " ' 7.64',\n",
              " ' 7.75',\n",
              " ' 7.78',\n",
              " ' 7.92',\n",
              " ' 7.94',\n",
              " ' 7.96',\n",
              " ' 7.99',\n",
              " ' 7H4.',\n",
              " ' 7V3.',\n",
              " ' 7Z\">',\n",
              " ' 7a4.',\n",
              " ' 7h4a',\n",
              " ' 8 .2',\n",
              " ' 8 0 ',\n",
              " ' 8 0Z',\n",
              " ' 8 1.',\n",
              " ' 8 16',\n",
              " ' 8 3.',\n",
              " ' 8 3Z',\n",
              " ' 8 8a',\n",
              " ' 8-8Z',\n",
              " ' 8.00',\n",
              " ' 8.01',\n",
              " ' 8.05',\n",
              " ' 8.25',\n",
              " ' 8.36',\n",
              " ' 8.43',\n",
              " ' 8.53',\n",
              " ' 8.56',\n",
              " ' 8.5H',\n",
              " ' 8.61',\n",
              " ' 8.75',\n",
              " ' 8.93',\n",
              " ' 8.98',\n",
              " ' 8a6.',\n",
              " ' 8a7.',\n",
              " ' 8a8.',\n",
              " ' 8c0-',\n",
              " ' 8l-3',\n",
              " ' 8l3.',\n",
              " ' 9 18',\n",
              " ' 9, 2',\n",
              " ' 9.06',\n",
              " ' 9.25',\n",
              " ' 9.28',\n",
              " ' 9.48',\n",
              " ' 9.5 ',\n",
              " ' 9.5-',\n",
              " ' 9.55',\n",
              " ' 9.5a',\n",
              " ' 9.65',\n",
              " ' 9.66',\n",
              " ' 9.68',\n",
              " ' 9.78',\n",
              " ' 9a1.',\n",
              " ' 9h8Z',\n",
              " ' <!--',\n",
              " ' </a>',\n",
              " ' </bo',\n",
              " ' </bu',\n",
              " ' </cl',\n",
              " ' </de',\n",
              " ' </di',\n",
              " ' </fo',\n",
              " ' </h2',\n",
              " ' </h3',\n",
              " ' </he',\n",
              " ' </in',\n",
              " ' </la',\n",
              " ' </li',\n",
              " ' </ma',\n",
              " ' </na',\n",
              " ' </re',\n",
              " ' </sp',\n",
              " ' </st',\n",
              " ' </su',\n",
              " ' </ta',\n",
              " ' </te',\n",
              " ' </tr',\n",
              " ' </ul',\n",
              " ' <a a',\n",
              " ' <a c',\n",
              " ' <a d',\n",
              " ' <a h',\n",
              " ' <a i',\n",
              " ' <a r',\n",
              " ' <a t',\n",
              " ' <bod',\n",
              " ' <but',\n",
              " ' <cir',\n",
              " ' <cli',\n",
              " ' <det',\n",
              " ' <div',\n",
              " ' <foo',\n",
              " ' <h1 ',\n",
              " ' <h2 ',\n",
              " ' <h3 ',\n",
              " ' <hea',\n",
              " ' <img',\n",
              " ' <inc',\n",
              " ' <inp',\n",
              " ' <lab',\n",
              " ' <li ',\n",
              " ' <li>',\n",
              " ' <lin',\n",
              " ' <mai',\n",
              " ' <met',\n",
              " ' <mod',\n",
              " ' <nav',\n",
              " ' <pat',\n",
              " ' <ref',\n",
              " ' <scr',\n",
              " ' <spa',\n",
              " ' <str',\n",
              " ' <sum',\n",
              " ' <svg',\n",
              " ' <tab',\n",
              " ' <td ',\n",
              " ' <tem',\n",
              " ' <tit',\n",
              " ' <tr>',\n",
              " ' <ul ',\n",
              " ' <ul>',\n",
              " ' ></d',\n",
              " ' A ta',\n",
              " ' Acti',\n",
              " ' All ',\n",
              " ' Are ',\n",
              " ' Audi',\n",
              " ' Auto',\n",
              " ' Back',\n",
              " ' Blob',\n",
              " ' Blog',\n",
              " ' Box ',\n",
              " ' Box-',\n",
              " ' BtnG',\n",
              " ' Butt',\n",
              " ' CI/C',\n",
              " ' Canc',\n",
              " ' Code',\n",
              " ' Coll',\n",
              " ' Comp',\n",
              " ' Copi',\n",
              " ' Copy',\n",
              " ' Crea',\n",
              " ' Cust',\n",
              " ' Desk',\n",
              " ' Deta',\n",
              " ' DevO',\n",
              " ' DevS',\n",
              " ' Disc',\n",
              " ' Docu',\n",
              " ' Educ',\n",
              " ' Ente',\n",
              " ' Find',\n",
              " ' Fund',\n",
              " ' Git ',\n",
              " ' GitH',\n",
              " ' Go t',\n",
              " ' Head',\n",
              " ' Host',\n",
              " ' In t',\n",
              " ' Inc.',\n",
              " ' Insi',\n",
              " ' Inst',\n",
              " ' Issu',\n",
              " ' Jump',\n",
              " ' Labe',\n",
              " ' Link',\n",
              " ' Mana',\n",
              " ' Many',\n",
              " ' Open',\n",
              " ' Over',\n",
              " ' Pack',\n",
              " ' Plan',\n",
              " ' Popo',\n",
              " ' Pric',\n",
              " ' Prod',\n",
              " ' Prog',\n",
              " ' Proj',\n",
              " ' Pull',\n",
              " ' Read',\n",
              " ' Reso',\n",
              " ' Secu',\n",
              " ' Sele',\n",
              " ' Show',\n",
              " ' Sign',\n",
              " ' Skil',\n",
              " ' Solu',\n",
              " ...]"
            ]
          },
          "execution_count": 10,
          "metadata": {},
          "output_type": "execute_result"
        }
      ],
      "source": [
        "n_gram_keys = sorted(list(n_gram_counter.keys()))\n",
        "n_gram_keys"
      ]
    },
    {
      "cell_type": "code",
      "execution_count": null,
      "metadata": {
        "colab": {
          "base_uri": "https://localhost:8080/"
        },
        "id": "5Eu31iOE9cZn",
        "outputId": "a4c7b22d-6cd3-447c-85a7-44726d64ca5f"
      },
      "outputs": [
        {
          "data": {
            "text/plain": [
              "541"
            ]
          },
          "execution_count": 41,
          "metadata": {},
          "output_type": "execute_result"
        }
      ],
      "source": [
        "n_gram_counter['ab']"
      ]
    },
    {
      "cell_type": "code",
      "execution_count": null,
      "metadata": {
        "id": "r9eHD5H689WQ"
      },
      "outputs": [],
      "source": [
        "starting_characters = list(set([x[0] for x in n_gram_keys]))\n",
        "\n",
        "example_chr = starting_characters[0]\n",
        "example_chr\n",
        "corresp_ngram_words = [x for x in n_gram_keys if x[0] == example_chr]\n",
        "total_chr_appearance = sum([n_gram_counter[word] for word in corresp_ngram_words])\n",
        "\n",
        "prob_of_words = [n_gram_counter[x]/total_chr_appearance for x in corresp_ngram_words]\n"
      ]
    },
    {
      "cell_type": "code",
      "execution_count": null,
      "metadata": {
        "id": "hkcs5CB_98bc"
      },
      "outputs": [],
      "source": [
        "prob_of_words"
      ]
    },
    {
      "cell_type": "code",
      "execution_count": null,
      "metadata": {
        "colab": {
          "base_uri": "https://localhost:8080/"
        },
        "id": "ldnXxrIM-CTC",
        "outputId": "3b11d39c-2e6b-461c-a89a-ff3c26d44ae2"
      },
      "outputs": [
        {
          "data": {
            "text/plain": [
              "26"
            ]
          },
          "execution_count": 47,
          "metadata": {},
          "output_type": "execute_result"
        }
      ],
      "source": [
        "starting_characters = sorted(list(set([x[0] for x in n_gram_keys])))\n",
        "len(starting_characters)"
      ]
    },
    {
      "cell_type": "code",
      "execution_count": null,
      "metadata": {
        "id": "GQMb-v6C-KL-"
      },
      "outputs": [],
      "source": [
        "# Make transition matrix\n",
        "import numpy as np\n",
        "\n",
        "transition = np.zeros([26, 26], dtype=np.int)\n",
        "chrs = sorted(list(set([x[0] for x in n_gram_keys])))\n",
        "chrs"
      ]
    },
    {
      "cell_type": "code",
      "execution_count": null,
      "metadata": {
        "id": "VMRdG23g-enC"
      },
      "outputs": [],
      "source": [
        "for i, start in enumerate(chrs):\n",
        "  for j, end in enumerate(chrs):\n",
        "    transition[i, j] = n_gram_counter[start+end]"
      ]
    },
    {
      "cell_type": "code",
      "execution_count": null,
      "metadata": {
        "id": "DUc_qxnR_U2e"
      },
      "outputs": [],
      "source": [
        "import torch\n",
        "\n",
        "transition = torch.tensor(transition)\n",
        "torch.set_printoptions(sci_mode=False)"
      ]
    },
    {
      "cell_type": "code",
      "execution_count": null,
      "metadata": {
        "id": "5HtM_xpi_hzR"
      },
      "outputs": [],
      "source": [
        "trans_prob = transition / transition.sum(dim=1).unsqueeze(1)\n",
        "trans_prob"
      ]
    },
    {
      "cell_type": "code",
      "execution_count": null,
      "metadata": {
        "colab": {
          "base_uri": "https://localhost:8080/"
        },
        "id": "gTh4r0GB_z_G",
        "outputId": "355ac297-7a0e-4cae-97d8-213d02b9c1fc"
      },
      "outputs": [
        {
          "data": {
            "text/plain": [
              "tensor(1.)"
            ]
          },
          "execution_count": 72,
          "metadata": {},
          "output_type": "execute_result"
        }
      ],
      "source": [
        "trans_prob[0].sum()"
      ]
    },
    {
      "cell_type": "code",
      "execution_count": null,
      "metadata": {
        "colab": {
          "base_uri": "https://localhost:8080/"
        },
        "id": "h1ZD5tNVAWC6",
        "outputId": "da7de628-c063-4575-dc60-25160166d399"
      },
      "outputs": [
        {
          "data": {
            "text/plain": [
              "('q', 'u', tensor(0.8443))"
            ]
          },
          "execution_count": 76,
          "metadata": {},
          "output_type": "execute_result"
        }
      ],
      "source": [
        "chrs[16], chrs[20], trans_prob[16, 20]"
      ]
    },
    {
      "cell_type": "code",
      "execution_count": null,
      "metadata": {
        "colab": {
          "base_uri": "https://localhost:8080/",
          "height": 448
        },
        "id": "jjXTz8c-_tQz",
        "outputId": "2e77b2fa-8892-42ee-e124-a91fe229c86f"
      },
      "outputs": [
        {
          "data": {
            "text/plain": [
              "<matplotlib.image.AxesImage at 0x7f746b84ae20>"
            ]
          },
          "execution_count": 73,
          "metadata": {},
          "output_type": "execute_result"
        },
        {
          "data": {
            "image/png": "[encoded data removed]",
            "text/plain": [
              "<Figure size 640x480 with 1 Axes>"
            ]
          },
          "metadata": {},
          "output_type": "display_data"
        }
      ],
      "source": [
        "import matplotlib.pyplot as plt\n",
        "\n",
        "plt.imshow(trans_prob)"
      ]
    },
    {
      "cell_type": "markdown",
      "metadata": {
        "id": "pw2W7m8cFrpo"
      },
      "source": [
        "## Neural Network"
      ]
    },
    {
      "cell_type": "code",
      "execution_count": 6,
      "metadata": {
        "colab": {
          "base_uri": "https://localhost:8080/"
        },
        "id": "2piADsoqFsvi",
        "outputId": "405eecc7-9dcc-4d85-9d5c-02476ff8cc11"
      },
      "outputs": [
        {
          "data": {
            "text/plain": [
              "tensor([ 1,  6, 14, 14,  2,  1])"
            ]
          },
          "execution_count": 6,
          "metadata": {},
          "output_type": "execute_result"
        }
      ],
      "source": [
        "import torch\n",
        "import torch.nn\n",
        "\n",
        "class Dataset:\n",
        "  def __init__(self, list_of_names):\n",
        "    self.names = list_of_names\n",
        "    self.chrs = sorted(list(set([chr  for name in self.names for chr in name])))\n",
        "    self.chrs = ['0', '.'] + self.chrs\n",
        "    self.tok2idx = {chr:i for i, chr in enumerate(self.chrs)}\n",
        "\n",
        "  def __len__(self):\n",
        "    return len(self.names)\n",
        "\n",
        "  def __getitem__(self, idx):\n",
        "    name = self.names[idx]\n",
        "    name = '.' + name + '.'\n",
        "    name_in_indices = [self.tok2idx[chr] for chr in name]\n",
        "    return torch.tensor(name_in_indices, dtype=torch.long)\n",
        "\n",
        "dataset = Dataset(names)\n",
        "dataset[0]"
      ]
    },
    {
      "cell_type": "code",
      "execution_count": null,
      "metadata": {},
      "outputs": [],
      "source": []
    },
    {
      "cell_type": "code",
      "execution_count": null,
      "metadata": {
        "id": "G4BBge6jGXEo"
      },
      "outputs": [],
      "source": [
        "vocab_size = len(dataset.chrs)\n",
        "emb_dim = 8\n",
        "\n",
        "word_emb = nn.Embedding(vocab_size, emb_dim)"
      ]
    },
    {
      "cell_type": "code",
      "execution_count": null,
      "metadata": {
        "colab": {
          "base_uri": "https://localhost:8080/"
        },
        "id": "WA7VzeCBHE7O",
        "outputId": "4a8d4061-bec3-48c4-a743-a09000810dde"
      },
      "outputs": [
        {
          "data": {
            "text/plain": [
              "tensor([ 1.9232,  1.1801, -0.0887, -0.5216, -0.7418,  0.1340,  0.1982,  1.7162],\n",
              "       grad_fn=<SelectBackward0>)"
            ]
          },
          "execution_count": 92,
          "metadata": {},
          "output_type": "execute_result"
        }
      ],
      "source": [
        "word_emb.weight[0]"
      ]
    },
    {
      "cell_type": "code",
      "execution_count": null,
      "metadata": {
        "id": "SgdLn-sFHW_h"
      },
      "outputs": [],
      "source": [
        "name_tensor = dataset[0]\n",
        "emb = word_emb(name_tensor)"
      ]
    },
    {
      "cell_type": "code",
      "execution_count": null,
      "metadata": {
        "colab": {
          "base_uri": "https://localhost:8080/"
        },
        "id": "LIaEt2ZwHlE4",
        "outputId": "a2f34973-8eef-4d0e-d1a1-4dd0bfe5a583"
      },
      "outputs": [
        {
          "data": {
            "text/plain": [
              "torch.Size([4, 8])"
            ]
          },
          "execution_count": 95,
          "metadata": {},
          "output_type": "execute_result"
        }
      ],
      "source": [
        "emb.shape"
      ]
    },
    {
      "cell_type": "code",
      "execution_count": null,
      "metadata": {
        "colab": {
          "base_uri": "https://localhost:8080/"
        },
        "id": "k-RVH4jyIKp4",
        "outputId": "146e46bc-6c87-4656-bca2-76b4e65bd1f9"
      },
      "outputs": [
        {
          "data": {
            "text/plain": [
              "tensor([[-0.2799, -0.2369, -0.8305, -0.0751, -0.0813, -0.6871,  0.9136, -0.5130]],\n",
              "       grad_fn=<SliceBackward0>)"
            ]
          },
          "execution_count": 98,
          "metadata": {},
          "output_type": "execute_result"
        }
      ],
      "source": [
        "emb[0:1]"
      ]
    },
    {
      "cell_type": "code",
      "execution_count": null,
      "metadata": {
        "colab": {
          "base_uri": "https://localhost:8080/"
        },
        "id": "oQeKhWCpHuUY",
        "outputId": "9cb026d3-e0d8-4b51-b366-d322d8aa1fc7"
      },
      "outputs": [
        {
          "data": {
            "text/plain": [
              "tensor([[ 0.2765,  0.0718, -0.2240,  0.4251, -0.5079,  0.0619,  0.1541,  0.1498,\n",
              "          0.1081,  0.1318, -0.1567,  0.6033],\n",
              "        [-0.3789, -0.7592,  0.6421,  0.0938,  0.9305,  0.0575, -0.2183,  0.6115,\n",
              "          0.2539, -0.6574,  1.3094, -0.2639],\n",
              "        [-0.3789, -0.7592,  0.6421,  0.0938,  0.9305,  0.0575, -0.2183,  0.6115,\n",
              "          0.2539, -0.6574,  1.3094, -0.2639],\n",
              "        [-0.8022,  0.0042, -0.6203,  0.0713, -0.3739, -0.1618,  0.5518, -0.1413,\n",
              "         -0.8806, -1.0042,  0.1083,  0.2116]], grad_fn=<MmBackward0>)"
            ]
          },
          "execution_count": 99,
          "metadata": {},
          "output_type": "execute_result"
        }
      ],
      "source": [
        "hidden_size = 12\n",
        "weight_xh = nn.Linear(emb_dim, hidden_size, bias=False)\n",
        "\n",
        "weight_xh(emb)"
      ]
    },
    {
      "cell_type": "code",
      "execution_count": null,
      "metadata": {
        "id": "NmTdC0LPIlaT"
      },
      "outputs": [],
      "source": [
        "weight_hh = nn.Linear(hidden_size, hidden_size)\n",
        "\n",
        "initial_hidden = torch.zeros(hidden_size)"
      ]
    },
    {
      "cell_type": "markdown",
      "metadata": {
        "id": "Jny_Lu12JC3R"
      },
      "source": [
        "$h_1 = \\sigma(W_{hh}h_{0} + W_{xh}x_{1})$\n"
      ]
    },
    {
      "cell_type": "code",
      "execution_count": null,
      "metadata": {
        "colab": {
          "base_uri": "https://localhost:8080/"
        },
        "id": "67fIXgL7I8ED",
        "outputId": "46a71d50-be5d-4607-b693-432748176ecf"
      },
      "outputs": [
        {
          "data": {
            "text/plain": [
              "tensor([[-0.0100,  0.3083,  0.0411,  0.3529, -0.4464, -0.2156,  0.1012,  0.0840,\n",
              "          0.0386,  0.0354, -0.3462,  0.5948]], grad_fn=<TanhBackward0>)"
            ]
          },
          "execution_count": 104,
          "metadata": {},
          "output_type": "execute_result"
        }
      ],
      "source": [
        "next_hidden = (weight_hh(initial_hidden) + weight_xh(emb[0:1])).tanh()\n",
        "next_hidden"
      ]
    },
    {
      "cell_type": "code",
      "execution_count": null,
      "metadata": {
        "colab": {
          "base_uri": "https://localhost:8080/"
        },
        "id": "GX28X4OLJ0hw",
        "outputId": "5ecdc0c6-0d17-4ee2-8758-445c011d7b3d"
      },
      "outputs": [
        {
          "data": {
            "text/plain": [
              "[tensor([-0.0100,  0.3083,  0.0411,  0.3529, -0.4464, -0.2156,  0.1012,  0.0840,\n",
              "          0.0386,  0.0354, -0.3462,  0.5948], grad_fn=<TanhBackward0>),\n",
              " tensor([-0.5425, -0.4924,  0.7898, -0.0250,  0.8380, -0.2019, -0.0767,  0.5737,\n",
              "          0.2884, -0.7382,  0.6682, -0.2965], grad_fn=<TanhBackward0>),\n",
              " tensor([-0.4872, -0.8018,  0.3790,  0.2149,  0.7639, -0.6407, -0.6718,  0.5409,\n",
              "          0.2854, -0.3986,  0.9189,  0.4143], grad_fn=<TanhBackward0>),\n",
              " tensor([-0.8312, -0.5261, -0.6565,  0.2503, -0.6020, -0.7073,  0.2114, -0.5513,\n",
              "         -0.5902, -0.7046, -0.0567,  0.7878], grad_fn=<TanhBackward0>)]"
            ]
          },
          "execution_count": 110,
          "metadata": {},
          "output_type": "execute_result"
        }
      ],
      "source": [
        "timestep = 0\n",
        "hidden = torch.zeros(hidden_size)\n",
        "total_hidden = []\n",
        "\n",
        "for t in range(len(name_tensor)):\n",
        "  emb_t = word_emb(name_tensor[t])\n",
        "  hidden = (weight_hh(hidden) + weight_xh(emb_t)).tanh()\n",
        "  total_hidden.append(hidden)\n",
        "total_hidden"
      ]
    },
    {
      "cell_type": "code",
      "execution_count": null,
      "metadata": {
        "colab": {
          "base_uri": "https://localhost:8080/",
          "height": 448
        },
        "id": "Kb6pGKQ5JgLF",
        "outputId": "bf1af348-f411-4abc-b0fb-02aa569843f8"
      },
      "outputs": [
        {
          "data": {
            "text/plain": [
              "[<matplotlib.lines.Line2D at 0x7f746c4923a0>]"
            ]
          },
          "execution_count": 107,
          "metadata": {},
          "output_type": "execute_result"
        },
        {
          "data": {
            "image/png": "[encoded data removed]",
            "text/plain": [
              "<Figure size 640x480 with 1 Axes>"
            ]
          },
          "metadata": {},
          "output_type": "display_data"
        }
      ],
      "source": [
        "import matplotlib.pyplot as plt\n",
        "plt.plot(((torch.arange(100) - 50)/10).tanh())"
      ]
    },
    {
      "attachments": {},
      "cell_type": "markdown",
      "metadata": {},
      "source": [
        "# Language Model"
      ]
    },
    {
      "cell_type": "code",
      "execution_count": 7,
      "metadata": {},
      "outputs": [],
      "source": [
        "class LanguageModel(nn.Module):\n",
        "  def __init__(self, vocab_size, emb_dim, hidden_size):\n",
        "    super().__init__()\n",
        "    self.emb = nn.Embedding(vocab_size, emb_dim)\n",
        "    self.rnn = nn.RNN(emb_dim, hidden_size, num_layers=1, batch_first=True)\n",
        "    self.proj = nn.Linear(hidden_size, vocab_size)\n",
        "\n",
        "  def forward(self, x):\n",
        "    emb = self.emb(x)\n",
        "    out, _ = self.rnn(emb)\n",
        "    out = self.proj(out)\n",
        "    return out\n",
        "  \n",
        "dataset = Dataset(names)\n",
        "\n",
        "vocab_size = len(dataset.chrs)\n",
        "emb_dim = 16\n",
        "hidden_size = 32\n",
        "model = LanguageModel(vocab_size, emb_dim, hidden_size)\n",
        "  "
      ]
    },
    {
      "cell_type": "code",
      "execution_count": 15,
      "metadata": {},
      "outputs": [],
      "source": [
        "def get_nll(pred, target):\n",
        "  pred = pred.reshape(-1, pred.shape[-1])\n",
        "  target = target.reshape(-1)\n",
        "  pred_masked = pred[target!=0]\n",
        "  target_masked = target[target!=0]\n",
        "  \n",
        "  return -torch.log(pred_masked[torch.arange(len(target_masked)), target_masked] + 1e-8).mean()"
      ]
    },
    {
      "cell_type": "code",
      "execution_count": 16,
      "metadata": {},
      "outputs": [],
      "source": [
        "def pad_collate_fn(batch):\n",
        "  batch = torch.nn.utils.rnn.pad_sequence(batch, batch_first=True, padding_value=0)\n",
        "  return batch"
      ]
    },
    {
      "cell_type": "code",
      "execution_count": 20,
      "metadata": {},
      "outputs": [
        {
          "name": "stderr",
          "output_type": "stream",
          "text": [
            "100%|██████████| 10/10 [00:19<00:00,  1.99s/it]\n"
          ]
        }
      ],
      "source": [
        "\n",
        "dataloader = torch.utils.data.DataLoader(dataset, batch_size=64, shuffle=True, collate_fn=pad_collate_fn)\n",
        "\n",
        "model = LanguageModel(vocab_size, emb_dim, hidden_size)\n",
        "optimizer = torch.optim.Adam(model.parameters(), lr=0.001)\n",
        "model = model.train()\n",
        "dev = 'cuda'\n",
        "# dev='cpu'\n",
        "model.to(dev)\n",
        "loss_fn = get_nll\n",
        "n_epoch = 10\n",
        "loss_record = []\n",
        "\n",
        "for epoch in range(10):\n",
        "  for batch in tqdm(dataloader, leave=False):\n",
        "    batch = batch.to(dev)\n",
        "    x = batch[:, :-1]\n",
        "    y = batch[:, 1:]\n",
        "    \n",
        "    optimizer.zero_grad()\n",
        "    out = model(x)\n",
        "    loss = loss_fn(out.softmax(dim=-1), y)\n",
        "    loss.backward()\n",
        "    optimizer.step()\n",
        "    optimizer.zero_grad()\n",
        "    loss_record.append(loss.item())"
      ]
    },
    {
      "cell_type": "code",
      "execution_count": 21,
      "metadata": {},
      "outputs": [
        {
          "data": {
            "text/plain": [
              "[<matplotlib.lines.Line2D at 0x7ff1ce075e80>]"
            ]
          },
          "execution_count": 21,
          "metadata": {},
          "output_type": "execute_result"
        },
        {
          "data": {
            "image/png": "[encoded data removed]",
            "text/plain": [
              "<Figure size 640x480 with 1 Axes>"
            ]
          },
          "metadata": {},
          "output_type": "display_data"
        }
      ],
      "source": [
        "plt.plot(loss_record)"
      ]
    }
  ],
  "metadata": {
    "accelerator": "GPU",
    "colab": {
      "include_colab_link": true,
      "provenance": []
    },
    "gpuClass": "standard",
    "kernelspec": {
      "display_name": "aat3020-2023-E1AG9i7b",
      "language": "python",
      "name": "python3"
    },
    "language_info": {
      "codemirror_mode": {
        "name": "ipython",
        "version": 3
      },
      "file_extension": ".py",
      "mimetype": "text/x-python",
      "name": "python",
      "nbconvert_exporter": "python",
      "pygments_lexer": "ipython3",
      "version": "3.8.13"
    },
    "orig_nbformat": 4
  },
  "nbformat": 4,
  "nbformat_minor": 0
}
