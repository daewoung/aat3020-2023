{
  "cells": [
    {
      "cell_type": "code",
      "execution_count": 1,
      "metadata": {
        "id": "8vQzOle74-cJ"
      },
      "outputs": [],
      "source": [
        "import torch\n",
        "import torch.nn as nn\n",
        "from torchtext.data.utils import get_tokenizer\n",
        "import matplotlib.pyplot as plt\n"
      ]
    },
    {
      "cell_type": "code",
      "execution_count": 8,
      "metadata": {
        "colab": {
          "base_uri": "https://localhost:8080/"
        },
        "id": "Y1EwAtYF4-cJ",
        "outputId": "d986cf84-7431-4ed3-ee88-c2088699b4d2"
      },
      "outputs": [
        {
          "output_type": "stream",
          "name": "stdout",
          "text": [
            "--2023-04-11 06:05:02--  https://raw.githubusercontent.com/karpathy/makemore/master/names.txt\n",
            "Resolving raw.githubusercontent.com (raw.githubusercontent.com)... 185.199.108.133, 185.199.109.133, 185.199.110.133, ...\n",
            "Connecting to raw.githubusercontent.com (raw.githubusercontent.com)|185.199.108.133|:443... connected.\n",
            "HTTP request sent, awaiting response... 200 OK\n",
            "Length: 228145 (223K) [text/plain]\n",
            "Saving to: ‘names.txt.1’\n",
            "\n",
            "names.txt.1         100%[===================>] 222.80K  --.-KB/s    in 0.03s   \n",
            "\n",
            "2023-04-11 06:05:02 (8.34 MB/s) - ‘names.txt.1’ saved [228145/228145]\n",
            "\n"
          ]
        }
      ],
      "source": [
        "!wget \"https://raw.githubusercontent.com/karpathy/makemore/master/names.txt\""
      ]
    },
    {
      "cell_type": "code",
      "execution_count": 11,
      "metadata": {
        "id": "xbdOy7ia4-cK"
      },
      "outputs": [],
      "source": [
        "def read_txt(txt_path):\n",
        "  with open(txt_path, 'r') as f:\n",
        "    txt_string = f.readlines()\n",
        "  return txt_string\n",
        "\n",
        "txt_string = read_txt('names.txt')"
      ]
    },
    {
      "cell_type": "code",
      "source": [
        "names = [x[:-1] for x in txt_string]\n",
        "len(names)"
      ],
      "metadata": {
        "colab": {
          "base_uri": "https://localhost:8080/"
        },
        "id": "BgVjcZCW6fMl",
        "outputId": "dbb88d0c-87f6-4359-c165-e41979b70711"
      },
      "execution_count": 15,
      "outputs": [
        {
          "output_type": "execute_result",
          "data": {
            "text/plain": [
              "32033"
            ]
          },
          "metadata": {},
          "execution_count": 15
        }
      ]
    },
    {
      "cell_type": "code",
      "source": [
        "# 2-gram \n",
        "entire_ngram = []\n",
        "n = 5\n",
        "\n",
        "for name in names:\n",
        "  len_name = len(name)\n",
        "  for i in range(len(name)-(n-1)):\n",
        "    n_gram = name[i:i+n]\n",
        "    entire_ngram.append(n_gram)"
      ],
      "metadata": {
        "id": "YBxK9YH77KJ9"
      },
      "execution_count": 77,
      "outputs": []
    },
    {
      "cell_type": "code",
      "source": [
        "from collections import Counter\n",
        "\n",
        "n_gram_counter = Counter(entire_ngram)"
      ],
      "metadata": {
        "id": "KRg3bkUU8Gx4"
      },
      "execution_count": 78,
      "outputs": []
    },
    {
      "cell_type": "code",
      "source": [
        "# how many combination exists?\n",
        "len(n_gram_counter)"
      ],
      "metadata": {
        "id": "xJsNbRqb8aPC",
        "outputId": "99a5f4ba-e4a9-479b-94db-45d685a38d79",
        "colab": {
          "base_uri": "https://localhost:8080/"
        }
      },
      "execution_count": 79,
      "outputs": [
        {
          "output_type": "execute_result",
          "data": {
            "text/plain": [
              "28796"
            ]
          },
          "metadata": {},
          "execution_count": 79
        }
      ]
    },
    {
      "cell_type": "code",
      "source": [
        "n_gram_counter.most_common(10)"
      ],
      "metadata": {
        "id": "8_2-P8FY8Rst",
        "outputId": "b714db6a-2624-4c0c-df15-f1eaa7120690",
        "colab": {
          "base_uri": "https://localhost:8080/"
        }
      },
      "execution_count": 80,
      "outputs": [
        {
          "output_type": "execute_result",
          "data": {
            "text/plain": [
              "[('leigh', 234),\n",
              " ('ianna', 127),\n",
              " ('amari', 125),\n",
              " ('elynn', 92),\n",
              " ('abell', 90),\n",
              " ('yanna', 90),\n",
              " ('bella', 84),\n",
              " ('oluwa', 79),\n",
              " ('alynn', 78),\n",
              " ('angel', 75)]"
            ]
          },
          "metadata": {},
          "execution_count": 80
        }
      ]
    },
    {
      "cell_type": "code",
      "source": [
        "n_gram_keys = sorted(list(n_gram_counter.keys()))\n",
        "n_gram_keys"
      ],
      "metadata": {
        "id": "OWhrGi4A8sTf"
      },
      "execution_count": null,
      "outputs": []
    },
    {
      "cell_type": "code",
      "source": [
        "n_gram_counter['ab']"
      ],
      "metadata": {
        "id": "5Eu31iOE9cZn",
        "outputId": "a4c7b22d-6cd3-447c-85a7-44726d64ca5f",
        "colab": {
          "base_uri": "https://localhost:8080/"
        }
      },
      "execution_count": 41,
      "outputs": [
        {
          "output_type": "execute_result",
          "data": {
            "text/plain": [
              "541"
            ]
          },
          "metadata": {},
          "execution_count": 41
        }
      ]
    },
    {
      "cell_type": "code",
      "source": [
        "starting_characters = list(set([x[0] for x in n_gram_keys]))\n",
        "\n",
        "example_chr = starting_characters[0]\n",
        "example_chr\n",
        "corresp_ngram_words = [x for x in n_gram_keys if x[0] == example_chr]\n",
        "total_chr_appearance = sum([n_gram_counter[word] for word in corresp_ngram_words])\n",
        "\n",
        "prob_of_words = [n_gram_counter[x]/total_chr_appearance for x in corresp_ngram_words]\n"
      ],
      "metadata": {
        "id": "r9eHD5H689WQ"
      },
      "execution_count": 43,
      "outputs": []
    },
    {
      "cell_type": "code",
      "source": [
        "prob_of_words"
      ],
      "metadata": {
        "id": "hkcs5CB_98bc"
      },
      "execution_count": null,
      "outputs": []
    },
    {
      "cell_type": "code",
      "source": [
        "starting_characters = sorted(list(set([x[0] for x in n_gram_keys])))\n",
        "len(starting_characters)"
      ],
      "metadata": {
        "id": "ldnXxrIM-CTC",
        "outputId": "3b11d39c-2e6b-461c-a89a-ff3c26d44ae2",
        "colab": {
          "base_uri": "https://localhost:8080/"
        }
      },
      "execution_count": 47,
      "outputs": [
        {
          "output_type": "execute_result",
          "data": {
            "text/plain": [
              "26"
            ]
          },
          "metadata": {},
          "execution_count": 47
        }
      ]
    },
    {
      "cell_type": "code",
      "source": [
        "# Make transition matrix\n",
        "import numpy as np\n",
        "\n",
        "transition = np.zeros([26, 26], dtype=np.int)\n",
        "chrs = sorted(list(set([x[0] for x in n_gram_keys])))\n",
        "chrs"
      ],
      "metadata": {
        "id": "GQMb-v6C-KL-"
      },
      "execution_count": null,
      "outputs": []
    },
    {
      "cell_type": "code",
      "source": [
        "for i, start in enumerate(chrs):\n",
        "  for j, end in enumerate(chrs):\n",
        "    transition[i, j] = n_gram_counter[start+end]"
      ],
      "metadata": {
        "id": "VMRdG23g-enC"
      },
      "execution_count": 56,
      "outputs": []
    },
    {
      "cell_type": "code",
      "source": [
        "import torch\n",
        "\n",
        "transition = torch.tensor(transition)\n",
        "torch.set_printoptions(sci_mode=False)"
      ],
      "metadata": {
        "id": "DUc_qxnR_U2e"
      },
      "execution_count": 61,
      "outputs": []
    },
    {
      "cell_type": "code",
      "source": [
        "trans_prob = transition / transition.sum(dim=1).unsqueeze(1)\n",
        "trans_prob"
      ],
      "metadata": {
        "id": "5HtM_xpi_hzR"
      },
      "execution_count": null,
      "outputs": []
    },
    {
      "cell_type": "code",
      "source": [
        "trans_prob[0].sum()"
      ],
      "metadata": {
        "id": "gTh4r0GB_z_G",
        "outputId": "355ac297-7a0e-4cae-97d8-213d02b9c1fc",
        "colab": {
          "base_uri": "https://localhost:8080/"
        }
      },
      "execution_count": 72,
      "outputs": [
        {
          "output_type": "execute_result",
          "data": {
            "text/plain": [
              "tensor(1.)"
            ]
          },
          "metadata": {},
          "execution_count": 72
        }
      ]
    },
    {
      "cell_type": "code",
      "source": [
        "chrs[16], chrs[20], trans_prob[16, 20]"
      ],
      "metadata": {
        "id": "h1ZD5tNVAWC6",
        "outputId": "da7de628-c063-4575-dc60-25160166d399",
        "colab": {
          "base_uri": "https://localhost:8080/"
        }
      },
      "execution_count": 76,
      "outputs": [
        {
          "output_type": "execute_result",
          "data": {
            "text/plain": [
              "('q', 'u', tensor(0.8443))"
            ]
          },
          "metadata": {},
          "execution_count": 76
        }
      ]
    },
    {
      "cell_type": "code",
      "source": [
        "import matplotlib.pyplot as plt\n",
        "\n",
        "plt.imshow(trans_prob)"
      ],
      "metadata": {
        "id": "jjXTz8c-_tQz",
        "outputId": "2e77b2fa-8892-42ee-e124-a91fe229c86f",
        "colab": {
          "base_uri": "https://localhost:8080/",
          "height": 448
        }
      },
      "execution_count": 73,
      "outputs": [
        {
          "output_type": "execute_result",
          "data": {
            "text/plain": [
              "<matplotlib.image.AxesImage at 0x7f746b84ae20>"
            ]
          },
          "metadata": {},
          "execution_count": 73
        },
        {
          "output_type": "display_data",
          "data": {
            "text/plain": [
              "<Figure size 640x480 with 1 Axes>"
            ],
            "image/png": "[encoded data removed]"
          },
          "metadata": {}
        }
      ]
    },
    {
      "cell_type": "markdown",
      "source": [
        "## Neural Network"
      ],
      "metadata": {
        "id": "pw2W7m8cFrpo"
      }
    },
    {
      "cell_type": "code",
      "source": [
        "import torch\n",
        "import torch.nn\n",
        "\n",
        "class Dataset:\n",
        "  def __init__(self, list_of_names):\n",
        "    self.names = list_of_names\n",
        "    self.chrs = sorted(list(set([chr  for name in self.names for chr in name])))\n",
        "    self.tok2idx = {chr:i for i, chr in enumerate(self.chrs)}\n",
        "\n",
        "  def __len__(self):\n",
        "    return len(self.names)\n",
        "\n",
        "  def __getitem__(self, idx):\n",
        "    name = self.names[idx]\n",
        "    name_in_indices = [self.tok2idx[chr] for chr in name]\n",
        "    return torch.tensor(name_in_indices, dtype=torch.long)\n",
        "\n",
        "dataset = Dataset(names)\n",
        "dataset[0]"
      ],
      "metadata": {
        "id": "2piADsoqFsvi",
        "outputId": "405eecc7-9dcc-4d85-9d5c-02476ff8cc11",
        "colab": {
          "base_uri": "https://localhost:8080/"
        }
      },
      "execution_count": 90,
      "outputs": [
        {
          "output_type": "execute_result",
          "data": {
            "text/plain": [
              "tensor([ 4, 12, 12,  0])"
            ]
          },
          "metadata": {},
          "execution_count": 90
        }
      ]
    },
    {
      "cell_type": "code",
      "source": [
        "vocab_size = len(dataset.chrs)\n",
        "emb_dim = 8\n",
        "\n",
        "word_emb = nn.Embedding(vocab_size, emb_dim)"
      ],
      "metadata": {
        "id": "G4BBge6jGXEo"
      },
      "execution_count": 87,
      "outputs": []
    },
    {
      "cell_type": "code",
      "source": [
        "word_emb.weight[0]"
      ],
      "metadata": {
        "id": "WA7VzeCBHE7O",
        "outputId": "4a8d4061-bec3-48c4-a743-a09000810dde",
        "colab": {
          "base_uri": "https://localhost:8080/"
        }
      },
      "execution_count": 92,
      "outputs": [
        {
          "output_type": "execute_result",
          "data": {
            "text/plain": [
              "tensor([ 1.9232,  1.1801, -0.0887, -0.5216, -0.7418,  0.1340,  0.1982,  1.7162],\n",
              "       grad_fn=<SelectBackward0>)"
            ]
          },
          "metadata": {},
          "execution_count": 92
        }
      ]
    },
    {
      "cell_type": "code",
      "source": [
        "name_tensor = dataset[0]\n",
        "emb = word_emb(name_tensor)"
      ],
      "metadata": {
        "id": "SgdLn-sFHW_h"
      },
      "execution_count": 93,
      "outputs": []
    },
    {
      "cell_type": "code",
      "source": [
        "emb.shape"
      ],
      "metadata": {
        "id": "LIaEt2ZwHlE4",
        "outputId": "a2f34973-8eef-4d0e-d1a1-4dd0bfe5a583",
        "colab": {
          "base_uri": "https://localhost:8080/"
        }
      },
      "execution_count": 95,
      "outputs": [
        {
          "output_type": "execute_result",
          "data": {
            "text/plain": [
              "torch.Size([4, 8])"
            ]
          },
          "metadata": {},
          "execution_count": 95
        }
      ]
    },
    {
      "cell_type": "code",
      "source": [
        "emb[0:1]"
      ],
      "metadata": {
        "id": "k-RVH4jyIKp4",
        "outputId": "146e46bc-6c87-4656-bca2-76b4e65bd1f9",
        "colab": {
          "base_uri": "https://localhost:8080/"
        }
      },
      "execution_count": 98,
      "outputs": [
        {
          "output_type": "execute_result",
          "data": {
            "text/plain": [
              "tensor([[-0.2799, -0.2369, -0.8305, -0.0751, -0.0813, -0.6871,  0.9136, -0.5130]],\n",
              "       grad_fn=<SliceBackward0>)"
            ]
          },
          "metadata": {},
          "execution_count": 98
        }
      ]
    },
    {
      "cell_type": "code",
      "source": [
        "hidden_size = 12\n",
        "weight_xh = nn.Linear(emb_dim, hidden_size, bias=False)\n",
        "\n",
        "weight_xh(emb)"
      ],
      "metadata": {
        "id": "oQeKhWCpHuUY",
        "outputId": "9cb026d3-e0d8-4b51-b366-d322d8aa1fc7",
        "colab": {
          "base_uri": "https://localhost:8080/"
        }
      },
      "execution_count": 99,
      "outputs": [
        {
          "output_type": "execute_result",
          "data": {
            "text/plain": [
              "tensor([[ 0.2765,  0.0718, -0.2240,  0.4251, -0.5079,  0.0619,  0.1541,  0.1498,\n",
              "          0.1081,  0.1318, -0.1567,  0.6033],\n",
              "        [-0.3789, -0.7592,  0.6421,  0.0938,  0.9305,  0.0575, -0.2183,  0.6115,\n",
              "          0.2539, -0.6574,  1.3094, -0.2639],\n",
              "        [-0.3789, -0.7592,  0.6421,  0.0938,  0.9305,  0.0575, -0.2183,  0.6115,\n",
              "          0.2539, -0.6574,  1.3094, -0.2639],\n",
              "        [-0.8022,  0.0042, -0.6203,  0.0713, -0.3739, -0.1618,  0.5518, -0.1413,\n",
              "         -0.8806, -1.0042,  0.1083,  0.2116]], grad_fn=<MmBackward0>)"
            ]
          },
          "metadata": {},
          "execution_count": 99
        }
      ]
    },
    {
      "cell_type": "code",
      "source": [
        "weight_hh = nn.Linear(hidden_size, hidden_size)\n",
        "\n",
        "initial_hidden = torch.zeros(hidden_size)"
      ],
      "metadata": {
        "id": "NmTdC0LPIlaT"
      },
      "execution_count": 101,
      "outputs": []
    },
    {
      "cell_type": "markdown",
      "source": [
        "$h_1 = \\sigma(W_{hh}h_{0} + W_{xh}x_{1})$\n"
      ],
      "metadata": {
        "id": "Jny_Lu12JC3R"
      }
    },
    {
      "cell_type": "code",
      "source": [
        "next_hidden = (weight_hh(initial_hidden) + weight_xh(emb[0:1])).tanh()\n",
        "next_hidden"
      ],
      "metadata": {
        "id": "67fIXgL7I8ED",
        "outputId": "46a71d50-be5d-4607-b693-432748176ecf",
        "colab": {
          "base_uri": "https://localhost:8080/"
        }
      },
      "execution_count": 104,
      "outputs": [
        {
          "output_type": "execute_result",
          "data": {
            "text/plain": [
              "tensor([[-0.0100,  0.3083,  0.0411,  0.3529, -0.4464, -0.2156,  0.1012,  0.0840,\n",
              "          0.0386,  0.0354, -0.3462,  0.5948]], grad_fn=<TanhBackward0>)"
            ]
          },
          "metadata": {},
          "execution_count": 104
        }
      ]
    },
    {
      "cell_type": "code",
      "source": [
        "timestep = 0\n",
        "hidden = torch.zeros(hidden_size)\n",
        "total_hidden = []\n",
        "\n",
        "for t in range(len(name_tensor)):\n",
        "  emb_t = word_emb(name_tensor[t])\n",
        "  hidden = (weight_hh(hidden) + weight_xh(emb_t)).tanh()\n",
        "  total_hidden.append(hidden)\n",
        "total_hidden"
      ],
      "metadata": {
        "id": "GX28X4OLJ0hw",
        "outputId": "5ecdc0c6-0d17-4ee2-8758-445c011d7b3d",
        "colab": {
          "base_uri": "https://localhost:8080/"
        }
      },
      "execution_count": 110,
      "outputs": [
        {
          "output_type": "execute_result",
          "data": {
            "text/plain": [
              "[tensor([-0.0100,  0.3083,  0.0411,  0.3529, -0.4464, -0.2156,  0.1012,  0.0840,\n",
              "          0.0386,  0.0354, -0.3462,  0.5948], grad_fn=<TanhBackward0>),\n",
              " tensor([-0.5425, -0.4924,  0.7898, -0.0250,  0.8380, -0.2019, -0.0767,  0.5737,\n",
              "          0.2884, -0.7382,  0.6682, -0.2965], grad_fn=<TanhBackward0>),\n",
              " tensor([-0.4872, -0.8018,  0.3790,  0.2149,  0.7639, -0.6407, -0.6718,  0.5409,\n",
              "          0.2854, -0.3986,  0.9189,  0.4143], grad_fn=<TanhBackward0>),\n",
              " tensor([-0.8312, -0.5261, -0.6565,  0.2503, -0.6020, -0.7073,  0.2114, -0.5513,\n",
              "         -0.5902, -0.7046, -0.0567,  0.7878], grad_fn=<TanhBackward0>)]"
            ]
          },
          "metadata": {},
          "execution_count": 110
        }
      ]
    },
    {
      "cell_type": "code",
      "source": [
        "import matplotlib.pyplot as plt\n",
        "plt.plot(((torch.arange(100) - 50)/10).tanh())"
      ],
      "metadata": {
        "id": "Kb6pGKQ5JgLF",
        "outputId": "bf1af348-f411-4abc-b0fb-02aa569843f8",
        "colab": {
          "base_uri": "https://localhost:8080/",
          "height": 448
        }
      },
      "execution_count": 107,
      "outputs": [
        {
          "output_type": "execute_result",
          "data": {
            "text/plain": [
              "[<matplotlib.lines.Line2D at 0x7f746c4923a0>]"
            ]
          },
          "metadata": {},
          "execution_count": 107
        },
        {
          "output_type": "display_data",
          "data": {
            "text/plain": [
              "<Figure size 640x480 with 1 Axes>"
            ],
            "image/png": "[encoded data removed]"
          },
          "metadata": {}
        }
      ]
    }
  ],
  "metadata": {
    "kernelspec": {
      "display_name": "aat3020-2023-E1AG9i7b",
      "language": "python",
      "name": "python3"
    },
    "language_info": {
      "codemirror_mode": {
        "name": "ipython",
        "version": 3
      },
      "file_extension": ".py",
      "mimetype": "text/x-python",
      "name": "python",
      "nbconvert_exporter": "python",
      "pygments_lexer": "ipython3",
      "version": "3.8.13"
    },
    "orig_nbformat": 4,
    "colab": {
      "provenance": []
    },
    "accelerator": "GPU",
    "gpuClass": "standard"
  },
  "nbformat": 4,
  "nbformat_minor": 0
}