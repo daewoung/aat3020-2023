{
  "cells": [
    {
      "cell_type": "markdown",
      "metadata": {
        "id": "view-in-github",
        "colab_type": "text"
      },
      "source": [
        "<a href=\"https://colab.research.google.com/github/jdasam/aat3020-2023/blob/main/notebooks/3_Language_modeling.ipynb\" target=\"_parent\"><img src=\"https://colab.research.google.com/assets/colab-badge.svg\" alt=\"Open In Colab\"/></a>"
      ]
    },
    {
      "cell_type": "code",
      "execution_count": null,
      "metadata": {
        "id": "8vQzOle74-cJ"
      },
      "outputs": [],
      "source": [
        "import torch\n",
        "import torch.nn as nn\n",
        "from torchtext.data.utils import get_tokenizer\n",
        "import matplotlib.pyplot as plt\n"
      ]
    },
    {
      "cell_type": "code",
      "execution_count": null,
      "metadata": {
        "id": "Y1EwAtYF4-cJ",
        "outputId": "82b738c7-6257-4f75-b6c0-6282c2db35c6"
      },
      "outputs": [
        {
          "name": "stdout",
          "output_type": "stream",
          "text": [
            "--2023-04-06 14:50:24--  https://github.com/karpathy/makemore/blob/master/names.txt\n",
            "Resolving github.com (github.com)... 20.200.245.247\n",
            "Connecting to github.com (github.com)|20.200.245.247|:443... connected.\n",
            "HTTP request sent, awaiting response... 200 OK\n",
            "Length: unspecified [text/html]\n",
            "Saving to: ‘names.txt’\n",
            "\n",
            "names.txt               [     <=>            ]   7.42M  7.93MB/s    in 0.9s    \n",
            "\n",
            "2023-04-06 14:50:26 (7.93 MB/s) - ‘names.txt’ saved [7775740]\n",
            "\n"
          ]
        }
      ],
      "source": [
        "!wget \"https://github.com/karpathy/makemore/blob/master/names.txt\""
      ]
    },
    {
      "cell_type": "code",
      "execution_count": null,
      "metadata": {
        "id": "xbdOy7ia4-cK"
      },
      "outputs": [],
      "source": [
        "def read_txt(txt_path):\n",
        "  with open(txt_path, 'r') as f:\n",
        "    txt_string = f.readlines()\n",
        "  return txt_string\n",
        "\n"
      ]
    }
  ],
  "metadata": {
    "kernelspec": {
      "display_name": "aat3020-2023-E1AG9i7b",
      "language": "python",
      "name": "python3"
    },
    "language_info": {
      "codemirror_mode": {
        "name": "ipython",
        "version": 3
      },
      "file_extension": ".py",
      "mimetype": "text/x-python",
      "name": "python",
      "nbconvert_exporter": "python",
      "pygments_lexer": "ipython3",
      "version": "3.8.13"
    },
    "orig_nbformat": 4,
    "colab": {
      "provenance": [],
      "include_colab_link": true
    }
  },
  "nbformat": 4,
  "nbformat_minor": 0
}