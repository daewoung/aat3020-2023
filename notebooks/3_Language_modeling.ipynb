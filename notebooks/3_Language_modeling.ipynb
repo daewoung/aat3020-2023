{
  "cells": [
    {
      "cell_type": "markdown",
      "metadata": {
        "colab_type": "text",
        "id": "view-in-github"
      },
      "source": [
        "<a href=\"https://colab.research.google.com/github/jdasam/aat3020-2023/blob/main/notebooks/3_Language_modeling.ipynb\" target=\"_parent\"><img src=\"https://colab.research.google.com/assets/colab-badge.svg\" alt=\"Open In Colab\"/></a>"
      ]
    },
    {
      "cell_type": "code",
      "execution_count": null,
      "metadata": {
        "id": "8vQzOle74-cJ"
      },
      "outputs": [],
      "source": [
        "import torch\n",
        "import torch.nn as nn\n",
        "from torchtext.data.utils import get_tokenizer\n",
        "import matplotlib.pyplot as plt\n",
        "from tqdm.auto import tqdm\n"
      ]
    },
    {
      "cell_type": "code",
      "execution_count": null,
      "metadata": {
        "colab": {
          "base_uri": "https://localhost:8080/"
        },
        "id": "Y1EwAtYF4-cJ",
        "outputId": "d986cf84-7431-4ed3-ee88-c2088699b4d2"
      },
      "outputs": [],
      "source": [
        "!wget \"https://raw.githubusercontent.com/karpathy/makemore/master/names.txt\""
      ]
    },
    {
      "cell_type": "code",
      "execution_count": null,
      "metadata": {
        "id": "xbdOy7ia4-cK"
      },
      "outputs": [],
      "source": [
        "def read_txt(txt_path):\n",
        "  with open(txt_path, 'r') as f:\n",
        "    txt_string = f.readlines()\n",
        "  return txt_string\n",
        "\n",
        "txt_string = read_txt('names.txt')"
      ]
    },
    {
      "cell_type": "code",
      "execution_count": null,
      "metadata": {
        "colab": {
          "base_uri": "https://localhost:8080/"
        },
        "id": "BgVjcZCW6fMl",
        "outputId": "dbb88d0c-87f6-4359-c165-e41979b70711"
      },
      "outputs": [],
      "source": [
        "names = [x[:-1] for x in txt_string]\n",
        "len(names)"
      ]
    },
    {
      "cell_type": "code",
      "execution_count": null,
      "metadata": {
        "id": "YBxK9YH77KJ9"
      },
      "outputs": [],
      "source": [
        "# 2-gram \n",
        "entire_ngram = []\n",
        "n = 5\n",
        "\n",
        "for name in names:\n",
        "  len_name = len(name)\n",
        "  for i in range(len(name)-(n-1)):\n",
        "    n_gram = name[i:i+n]\n",
        "    entire_ngram.append(n_gram)"
      ]
    },
    {
      "cell_type": "code",
      "execution_count": null,
      "metadata": {
        "id": "KRg3bkUU8Gx4"
      },
      "outputs": [],
      "source": [
        "from collections import Counter\n",
        "\n",
        "n_gram_counter = Counter(entire_ngram)"
      ]
    },
    {
      "cell_type": "code",
      "execution_count": null,
      "metadata": {
        "colab": {
          "base_uri": "https://localhost:8080/"
        },
        "id": "xJsNbRqb8aPC",
        "outputId": "99a5f4ba-e4a9-479b-94db-45d685a38d79"
      },
      "outputs": [],
      "source": [
        "# how many combination exists?\n",
        "len(n_gram_counter)"
      ]
    },
    {
      "cell_type": "code",
      "execution_count": null,
      "metadata": {
        "colab": {
          "base_uri": "https://localhost:8080/"
        },
        "id": "8_2-P8FY8Rst",
        "outputId": "b714db6a-2624-4c0c-df15-f1eaa7120690"
      },
      "outputs": [],
      "source": [
        "n_gram_counter.most_common(10)"
      ]
    },
    {
      "cell_type": "code",
      "execution_count": null,
      "metadata": {
        "id": "OWhrGi4A8sTf"
      },
      "outputs": [],
      "source": [
        "n_gram_keys = sorted(list(n_gram_counter.keys()))\n",
        "n_gram_keys"
      ]
    },
    {
      "cell_type": "code",
      "execution_count": null,
      "metadata": {
        "colab": {
          "base_uri": "https://localhost:8080/"
        },
        "id": "5Eu31iOE9cZn",
        "outputId": "a4c7b22d-6cd3-447c-85a7-44726d64ca5f"
      },
      "outputs": [],
      "source": [
        "n_gram_counter['ab']"
      ]
    },
    {
      "cell_type": "code",
      "execution_count": null,
      "metadata": {
        "id": "r9eHD5H689WQ"
      },
      "outputs": [],
      "source": [
        "starting_characters = list(set([x[0] for x in n_gram_keys]))\n",
        "\n",
        "example_chr = starting_characters[0]\n",
        "example_chr\n",
        "corresp_ngram_words = [x for x in n_gram_keys if x[0] == example_chr]\n",
        "total_chr_appearance = sum([n_gram_counter[word] for word in corresp_ngram_words])\n",
        "\n",
        "prob_of_words = [n_gram_counter[x]/total_chr_appearance for x in corresp_ngram_words]\n"
      ]
    },
    {
      "cell_type": "code",
      "execution_count": null,
      "metadata": {
        "id": "hkcs5CB_98bc"
      },
      "outputs": [],
      "source": [
        "prob_of_words"
      ]
    },
    {
      "cell_type": "code",
      "execution_count": null,
      "metadata": {
        "colab": {
          "base_uri": "https://localhost:8080/"
        },
        "id": "ldnXxrIM-CTC",
        "outputId": "3b11d39c-2e6b-461c-a89a-ff3c26d44ae2"
      },
      "outputs": [],
      "source": [
        "starting_characters = sorted(list(set([x[0] for x in n_gram_keys])))\n",
        "len(starting_characters)"
      ]
    },
    {
      "cell_type": "code",
      "execution_count": null,
      "metadata": {
        "id": "GQMb-v6C-KL-"
      },
      "outputs": [],
      "source": [
        "# Make transition matrix\n",
        "import numpy as np\n",
        "\n",
        "transition = np.zeros([26, 26], dtype=np.int)\n",
        "chrs = sorted(list(set([x[0] for x in n_gram_keys])))\n",
        "chrs"
      ]
    },
    {
      "cell_type": "code",
      "execution_count": null,
      "metadata": {
        "id": "VMRdG23g-enC"
      },
      "outputs": [],
      "source": [
        "for i, start in enumerate(chrs):\n",
        "  for j, end in enumerate(chrs):\n",
        "    transition[i, j] = n_gram_counter[start+end]"
      ]
    },
    {
      "cell_type": "code",
      "execution_count": null,
      "metadata": {
        "id": "DUc_qxnR_U2e"
      },
      "outputs": [],
      "source": [
        "import torch\n",
        "\n",
        "transition = torch.tensor(transition)\n",
        "torch.set_printoptions(sci_mode=False)"
      ]
    },
    {
      "cell_type": "code",
      "execution_count": null,
      "metadata": {
        "id": "5HtM_xpi_hzR"
      },
      "outputs": [],
      "source": [
        "trans_prob = transition / transition.sum(dim=1).unsqueeze(1)\n",
        "trans_prob"
      ]
    },
    {
      "cell_type": "code",
      "execution_count": null,
      "metadata": {
        "colab": {
          "base_uri": "https://localhost:8080/"
        },
        "id": "gTh4r0GB_z_G",
        "outputId": "355ac297-7a0e-4cae-97d8-213d02b9c1fc"
      },
      "outputs": [],
      "source": [
        "trans_prob[0].sum()"
      ]
    },
    {
      "cell_type": "code",
      "execution_count": null,
      "metadata": {
        "colab": {
          "base_uri": "https://localhost:8080/"
        },
        "id": "h1ZD5tNVAWC6",
        "outputId": "da7de628-c063-4575-dc60-25160166d399"
      },
      "outputs": [],
      "source": [
        "chrs[16], chrs[20], trans_prob[16, 20]"
      ]
    },
    {
      "cell_type": "code",
      "execution_count": null,
      "metadata": {
        "colab": {
          "base_uri": "https://localhost:8080/",
          "height": 448
        },
        "id": "jjXTz8c-_tQz",
        "outputId": "2e77b2fa-8892-42ee-e124-a91fe229c86f"
      },
      "outputs": [],
      "source": [
        "import matplotlib.pyplot as plt\n",
        "\n",
        "plt.imshow(trans_prob)"
      ]
    },
    {
      "cell_type": "markdown",
      "metadata": {
        "id": "pw2W7m8cFrpo"
      },
      "source": [
        "## Neural Network"
      ]
    },
    {
      "cell_type": "code",
      "execution_count": null,
      "metadata": {
        "colab": {
          "base_uri": "https://localhost:8080/"
        },
        "id": "2piADsoqFsvi",
        "outputId": "405eecc7-9dcc-4d85-9d5c-02476ff8cc11"
      },
      "outputs": [],
      "source": [
        "import torch\n",
        "import torch.nn\n",
        "\n",
        "class Dataset:\n",
        "  def __init__(self, list_of_names):\n",
        "    self.names = list_of_names\n",
        "    self.chrs = sorted(list(set([chr  for name in self.names for chr in name])))\n",
        "    self.chrs = ['0', '.'] + self.chrs\n",
        "    self.tok2idx = {chr:i for i, chr in enumerate(self.chrs)}\n",
        "\n",
        "  def __len__(self):\n",
        "    return len(self.names)\n",
        "\n",
        "  def __getitem__(self, idx):\n",
        "    name = self.names[idx]\n",
        "    name = '.' + name + '.'\n",
        "    name_in_indices = [self.tok2idx[chr] for chr in name]\n",
        "    return torch.tensor(name_in_indices, dtype=torch.long)\n",
        "\n",
        "dataset = Dataset(names)\n",
        "dataset[0]"
      ]
    },
    {
      "cell_type": "code",
      "execution_count": null,
      "metadata": {},
      "outputs": [],
      "source": []
    },
    {
      "cell_type": "code",
      "execution_count": null,
      "metadata": {
        "id": "G4BBge6jGXEo"
      },
      "outputs": [],
      "source": [
        "vocab_size = len(dataset.chrs)\n",
        "emb_dim = 8\n",
        "\n",
        "word_emb = nn.Embedding(vocab_size, emb_dim)"
      ]
    },
    {
      "cell_type": "code",
      "execution_count": null,
      "metadata": {
        "colab": {
          "base_uri": "https://localhost:8080/"
        },
        "id": "WA7VzeCBHE7O",
        "outputId": "4a8d4061-bec3-48c4-a743-a09000810dde"
      },
      "outputs": [],
      "source": [
        "word_emb.weight[0]"
      ]
    },
    {
      "cell_type": "code",
      "execution_count": null,
      "metadata": {
        "id": "SgdLn-sFHW_h"
      },
      "outputs": [],
      "source": [
        "name_tensor = dataset[0]\n",
        "emb = word_emb(name_tensor)"
      ]
    },
    {
      "cell_type": "code",
      "execution_count": null,
      "metadata": {
        "colab": {
          "base_uri": "https://localhost:8080/"
        },
        "id": "LIaEt2ZwHlE4",
        "outputId": "a2f34973-8eef-4d0e-d1a1-4dd0bfe5a583"
      },
      "outputs": [],
      "source": [
        "emb.shape"
      ]
    },
    {
      "cell_type": "code",
      "execution_count": null,
      "metadata": {
        "colab": {
          "base_uri": "https://localhost:8080/"
        },
        "id": "k-RVH4jyIKp4",
        "outputId": "146e46bc-6c87-4656-bca2-76b4e65bd1f9"
      },
      "outputs": [],
      "source": [
        "emb[0:1]"
      ]
    },
    {
      "cell_type": "code",
      "execution_count": null,
      "metadata": {
        "colab": {
          "base_uri": "https://localhost:8080/"
        },
        "id": "oQeKhWCpHuUY",
        "outputId": "9cb026d3-e0d8-4b51-b366-d322d8aa1fc7"
      },
      "outputs": [],
      "source": [
        "hidden_size = 12\n",
        "weight_xh = nn.Linear(emb_dim, hidden_size, bias=False)\n",
        "\n",
        "weight_xh(emb)"
      ]
    },
    {
      "cell_type": "code",
      "execution_count": null,
      "metadata": {
        "id": "NmTdC0LPIlaT"
      },
      "outputs": [],
      "source": [
        "weight_hh = nn.Linear(hidden_size, hidden_size)\n",
        "\n",
        "initial_hidden = torch.zeros(hidden_size)"
      ]
    },
    {
      "cell_type": "markdown",
      "metadata": {
        "id": "Jny_Lu12JC3R"
      },
      "source": [
        "$h_1 = \\sigma(W_{hh}h_{0} + W_{xh}x_{1})$\n"
      ]
    },
    {
      "cell_type": "code",
      "execution_count": null,
      "metadata": {
        "colab": {
          "base_uri": "https://localhost:8080/"
        },
        "id": "67fIXgL7I8ED",
        "outputId": "46a71d50-be5d-4607-b693-432748176ecf"
      },
      "outputs": [],
      "source": [
        "next_hidden = (weight_hh(initial_hidden) + weight_xh(emb[0:1])).tanh()\n",
        "next_hidden"
      ]
    },
    {
      "cell_type": "code",
      "execution_count": null,
      "metadata": {
        "colab": {
          "base_uri": "https://localhost:8080/"
        },
        "id": "GX28X4OLJ0hw",
        "outputId": "5ecdc0c6-0d17-4ee2-8758-445c011d7b3d"
      },
      "outputs": [],
      "source": [
        "timestep = 0\n",
        "hidden = torch.zeros(hidden_size)\n",
        "total_hidden = []\n",
        "\n",
        "for t in range(len(name_tensor)):\n",
        "  emb_t = word_emb(name_tensor[t])\n",
        "  hidden = (weight_hh(hidden) + weight_xh(emb_t)).tanh()\n",
        "  total_hidden.append(hidden)\n",
        "total_hidden"
      ]
    },
    {
      "cell_type": "code",
      "execution_count": null,
      "metadata": {
        "colab": {
          "base_uri": "https://localhost:8080/",
          "height": 448
        },
        "id": "Kb6pGKQ5JgLF",
        "outputId": "bf1af348-f411-4abc-b0fb-02aa569843f8"
      },
      "outputs": [],
      "source": [
        "import matplotlib.pyplot as plt\n",
        "plt.plot(((torch.arange(100) - 50)/10).tanh())"
      ]
    },
    {
      "attachments": {},
      "cell_type": "markdown",
      "metadata": {},
      "source": [
        "# Language Model"
      ]
    },
    {
      "cell_type": "code",
      "execution_count": null,
      "metadata": {},
      "outputs": [],
      "source": [
        "class LanguageModel(nn.Module):\n",
        "  def __init__(self, vocab_size, emb_dim, hidden_size):\n",
        "    super().__init__()\n",
        "    self.emb = nn.Embedding(vocab_size, emb_dim)\n",
        "    self.rnn = nn.RNN(emb_dim, hidden_size, num_layers=1, batch_first=True)\n",
        "    self.proj = nn.Linear(hidden_size, vocab_size)\n",
        "\n",
        "  def forward(self, x):\n",
        "    emb = self.emb(x)\n",
        "    out, _ = self.rnn(emb)\n",
        "    out = self.proj(out)\n",
        "    return out\n",
        "  \n",
        "dataset = Dataset(names)\n",
        "\n",
        "vocab_size = len(dataset.chrs)\n",
        "emb_dim = 16\n",
        "hidden_size = 32\n",
        "model = LanguageModel(vocab_size, emb_dim, hidden_size)\n",
        "  "
      ]
    },
    {
      "cell_type": "code",
      "execution_count": null,
      "metadata": {},
      "outputs": [],
      "source": [
        "def get_nll(pred, target):\n",
        "  pred = pred.reshape(-1, pred.shape[-1])\n",
        "  target = target.reshape(-1)\n",
        "  pred_masked = pred[target!=0]\n",
        "  target_masked = target[target!=0]\n",
        "  \n",
        "  return -torch.log(pred_masked[torch.arange(len(target_masked)), target_masked] + 1e-8).mean()"
      ]
    },
    {
      "cell_type": "code",
      "execution_count": null,
      "metadata": {},
      "outputs": [],
      "source": [
        "def pad_collate_fn(batch):\n",
        "  batch = torch.nn.utils.rnn.pad_sequence(batch, batch_first=True, padding_value=0)\n",
        "  return batch"
      ]
    },
    {
      "cell_type": "code",
      "execution_count": null,
      "metadata": {},
      "outputs": [],
      "source": [
        "\n",
        "dataloader = torch.utils.data.DataLoader(dataset, batch_size=64, shuffle=True, collate_fn=pad_collate_fn)\n",
        "\n",
        "model = LanguageModel(vocab_size, emb_dim, hidden_size)\n",
        "optimizer = torch.optim.Adam(model.parameters(), lr=0.001)\n",
        "model = model.train()\n",
        "dev = 'cuda'\n",
        "# dev='cpu'\n",
        "model.to(dev)\n",
        "loss_fn = get_nll\n",
        "n_epoch = 10\n",
        "loss_record = []\n",
        "\n",
        "for epoch in range(10):\n",
        "  for batch in tqdm(dataloader, leave=False):\n",
        "    batch = batch.to(dev)\n",
        "    x = batch[:, :-1]\n",
        "    y = batch[:, 1:]\n",
        "    \n",
        "    optimizer.zero_grad()\n",
        "    out = model(x)\n",
        "    loss = loss_fn(out.softmax(dim=-1), y)\n",
        "    loss.backward()\n",
        "    optimizer.step()\n",
        "    optimizer.zero_grad()\n",
        "    loss_record.append(loss.item())"
      ]
    },
    {
      "cell_type": "code",
      "execution_count": null,
      "metadata": {},
      "outputs": [],
      "source": [
        "plt.plot(loss_record)"
      ]
    }
  ],
  "metadata": {
    "accelerator": "GPU",
    "colab": {
      "include_colab_link": true,
      "provenance": []
    },
    "gpuClass": "standard",
    "kernelspec": {
      "display_name": "aat3020-2023-E1AG9i7b",
      "language": "python",
      "name": "python3"
    },
    "language_info": {
      "codemirror_mode": {
        "name": "ipython",
        "version": 3
      },
      "file_extension": ".py",
      "mimetype": "text/x-python",
      "name": "python",
      "nbconvert_exporter": "python",
      "pygments_lexer": "ipython3",
      "version": "3.8.13"
    },
    "orig_nbformat": 4
  },
  "nbformat": 4,
  "nbformat_minor": 0
}
